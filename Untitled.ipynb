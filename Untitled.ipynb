{
 "cells": [
  {
   "cell_type": "code",
   "execution_count": 1,
   "metadata": {
    "collapsed": false
   },
   "outputs": [
    {
     "name": "stderr",
     "output_type": "stream",
     "text": [
      "/home/igor/anaconda3/envs/datamine/lib/python2.7/site-packages/sklearn/cross_validation.py:44: DeprecationWarning: This module was deprecated in version 0.18 in favor of the model_selection module into which all the refactored classes and functions are moved. Also note that the interface of the new CV iterators are different from that of this module. This module will be removed in 0.20.\n",
      "  \"This module will be removed in 0.20.\", DeprecationWarning)\n",
      "/home/igor/anaconda3/envs/datamine/lib/python2.7/site-packages/sklearn/learning_curve.py:23: DeprecationWarning: This module was deprecated in version 0.18 in favor of the model_selection module into which all the functions are moved. This module will be removed in 0.20\n",
      "  DeprecationWarning)\n"
     ]
    }
   ],
   "source": [
    "import xgboost as xgb\n",
    "from sklearn import ensemble , cross_validation, learning_curve, metrics \n",
    "import pandas as pd \n",
    "\n"
   ]
  },
  {
   "cell_type": "code",
   "execution_count": 30,
   "metadata": {
    "collapsed": false
   },
   "outputs": [
    {
     "name": "stdout",
     "output_type": "stream",
     "text": [
      "     material calday konkurent factminprice minonlineprice avgofflineprice  \\\n",
      "23       True   True      True         True           True            True   \n",
      "49       True   True      True         True           True            True   \n",
      "73       True   True      True         True           True            True   \n",
      "80       True   True      True         True           True            True   \n",
      "82       True   True      True         True           True            True   \n",
      "83       True   True      True         True           True            True   \n",
      "85       True   True      True         True           True            True   \n",
      "87       True   True      True         True           True            True   \n",
      "88       True   True      True         True           True            True   \n",
      "97       True   True      True         True           True            True   \n",
      "98       True   True      True         True           True            True   \n",
      "99       True   True      True         True           True            True   \n",
      "103      True   True      True         True           True            True   \n",
      "113      True   True      True         True           True            True   \n",
      "114      True   True      True         True           True            True   \n",
      "116      True   True      True         True           True            True   \n",
      "117      True   True      True         True           True            True   \n",
      "118      True   True      True         True           True            True   \n",
      "119      True   True      True         True           True            True   \n",
      "122      True   True      True         True           True            True   \n",
      "123      True   True      True         True           True            True   \n",
      "149      True   True      True         True           True            True   \n",
      "150      True   True      True         True           True            True   \n",
      "151      True   True      True         True           True            True   \n",
      "152      True   True      True         True           True            True   \n",
      "153      True   True      True         True           True            True   \n",
      "154      True   True      True         True           True            True   \n",
      "155      True   True      True         True           True            True   \n",
      "156      True   True      True         True           True            True   \n",
      "160      True   True      True         True           True            True   \n",
      "...       ...    ...       ...          ...            ...             ...   \n",
      "1867     True   True      True         True           True            True   \n",
      "1878     True   True      True         True           True            True   \n",
      "1895     True   True      True         True           True            True   \n",
      "1925     True   True      True         True           True            True   \n",
      "1927     True   True      True         True           True            True   \n",
      "1931     True   True      True         True           True            True   \n",
      "1940     True   True      True         True           True            True   \n",
      "1946     True   True      True         True           True            True   \n",
      "1949     True   True      True         True           True            True   \n",
      "1951     True   True      True         True           True            True   \n",
      "1954     True   True      True         True           True            True   \n",
      "1955     True   True      True         True           True            True   \n",
      "1962     True   True      True         True           True            True   \n",
      "1974     True   True      True         True           True            True   \n",
      "1975     True   True      True         True           True            True   \n",
      "1976     True   True      True         True           True            True   \n",
      "1977     True   True      True         True           True            True   \n",
      "1991     True   True      True         True           True            True   \n",
      "1993     True   True      True         True           True            True   \n",
      "1995     True   True      True         True           True            True   \n",
      "1996     True   True      True         True           True            True   \n",
      "1997     True   True      True         True           True            True   \n",
      "1999     True   True      True         True           True            True   \n",
      "2000     True   True      True         True           True            True   \n",
      "2002     True   True      True         True           True            True   \n",
      "2004     True   True      True         True           True            True   \n",
      "2010     True   True      True         True           True            True   \n",
      "2016     True   True      True         True           True            True   \n",
      "2017     True   True      True         True           True            True   \n",
      "2019     True   True      True         True           True            True   \n",
      "\n",
      "     coupons discounts credits paper  util  \n",
      "23      True      True    True  True  True  \n",
      "49      True      True    True  True  True  \n",
      "73      True      True    True  True  True  \n",
      "80      True      True    True  True  True  \n",
      "82      True      True    True  True  True  \n",
      "83      True      True    True  True  True  \n",
      "85      True      True    True  True  True  \n",
      "87      True      True    True  True  True  \n",
      "88      True      True    True  True  True  \n",
      "97      True      True    True  True  True  \n",
      "98      True      True    True  True  True  \n",
      "99      True      True    True  True  True  \n",
      "103     True      True    True  True  True  \n",
      "113     True      True    True  True  True  \n",
      "114     True      True    True  True  True  \n",
      "116     True      True    True  True  True  \n",
      "117     True      True    True  True  True  \n",
      "118     True      True    True  True  True  \n",
      "119     True      True    True  True  True  \n",
      "122     True      True    True  True  True  \n",
      "123     True      True    True  True  True  \n",
      "149     True      True    True  True  True  \n",
      "150     True      True    True  True  True  \n",
      "151     True      True    True  True  True  \n",
      "152     True      True    True  True  True  \n",
      "153     True      True    True  True  True  \n",
      "154     True      True    True  True  True  \n",
      "155     True      True    True  True  True  \n",
      "156     True      True    True  True  True  \n",
      "160     True      True    True  True  True  \n",
      "...      ...       ...     ...   ...   ...  \n",
      "1867    True      True    True  True  True  \n",
      "1878    True      True    True  True  True  \n",
      "1895    True      True    True  True  True  \n",
      "1925    True      True    True  True  True  \n",
      "1927    True      True    True  True  True  \n",
      "1931    True      True    True  True  True  \n",
      "1940    True      True    True  True  True  \n",
      "1946    True      True    True  True  True  \n",
      "1949    True      True    True  True  True  \n",
      "1951    True      True    True  True  True  \n",
      "1954    True      True    True  True  True  \n",
      "1955    True      True    True  True  True  \n",
      "1962    True      True    True  True  True  \n",
      "1974    True      True    True  True  True  \n",
      "1975    True      True    True  True  True  \n",
      "1976    True      True    True  True  True  \n",
      "1977    True      True    True  True  True  \n",
      "1991    True      True    True  True  True  \n",
      "1993    True      True    True  True  True  \n",
      "1995    True      True    True  True  True  \n",
      "1996    True      True    True  True  True  \n",
      "1997    True      True    True  True  True  \n",
      "1999    True      True    True  True  True  \n",
      "2000    True      True    True  True  True  \n",
      "2002    True      True    True  True  True  \n",
      "2004    True      True    True  True  True  \n",
      "2010    True      True    True  True  True  \n",
      "2016    True      True    True  True  True  \n",
      "2017    True      True    True  True  True  \n",
      "2019    True      True    True  True  True  \n",
      "\n",
      "[469 rows x 11 columns]\n",
      "CPU times: user 64 ms, sys: 0 ns, total: 64 ms\n",
      "Wall time: 66.1 ms\n"
     ]
    }
   ],
   "source": [
    "%%time\n",
    "\n",
    "bioresponce_data = pd.read_csv('/home/igor/Downloads/train.csv', sep=',', header=0)\n",
    "bioresponce_data.konkurent = bioresponce_data.konkurent.fillna('no')\n",
    "bioresponce_data =  bioresponce_data[bioresponce_data.minonlineprice.notnull()]\n",
    "bioresponce_data =  bioresponce_data[bioresponce_data.avgofflineprice.notnull()]\n",
    "bioresponce_data = bioresponce_data .notnull()\n",
    "predictors = [x for x in bioresponce_data.columns if x not in ['sales']]\n",
    "bioresponce_target = bioresponce_data[bioresponce_data.sales]\n",
    "bioresponce_data = bioresponce_data.drop(['sales'], 1)\n",
    "#bioresponce_data = bioresponce_data.drop('sales', 1)\n",
    "#bioresponce_target = bioresponce_data.sales.fillna(0)\n",
    "print(bioresponce_data)"
   ]
  },
  {
   "cell_type": "code",
   "execution_count": 31,
   "metadata": {
    "collapsed": false
   },
   "outputs": [
    {
     "ename": "ValueError",
     "evalue": "Found input variables with inconsistent numbers of samples: [469, 157]",
     "output_type": "error",
     "traceback": [
      "\u001b[0;31m---------------------------------------------------------------------------\u001b[0m",
      "\u001b[0;31mValueError\u001b[0m                                Traceback (most recent call last)",
      "\u001b[0;32m<ipython-input-31-7c5c7fbcad8e>\u001b[0m in \u001b[0;36m<module>\u001b[0;34m()\u001b[0m\n\u001b[1;32m      1\u001b[0m \u001b[0mxgb_scoring\u001b[0m \u001b[0;34m=\u001b[0m \u001b[0;34m[\u001b[0m\u001b[0;34m]\u001b[0m\u001b[0;34m\u001b[0m\u001b[0m\n\u001b[1;32m      2\u001b[0m \u001b[0mestimator\u001b[0m \u001b[0;34m=\u001b[0m \u001b[0mxgb\u001b[0m\u001b[0;34m.\u001b[0m\u001b[0mXGBClassifier\u001b[0m\u001b[0;34m(\u001b[0m\u001b[0mlearning_rate\u001b[0m\u001b[0;34m=\u001b[0m\u001b[0;36m0.1\u001b[0m\u001b[0;34m,\u001b[0m \u001b[0mmax_depth\u001b[0m\u001b[0;34m=\u001b[0m\u001b[0;36m5\u001b[0m\u001b[0;34m,\u001b[0m \u001b[0mn_estimators\u001b[0m\u001b[0;34m=\u001b[0m\u001b[0;36m10\u001b[0m\u001b[0;34m,\u001b[0m \u001b[0mmin_child_weight\u001b[0m\u001b[0;34m=\u001b[0m\u001b[0;36m3\u001b[0m\u001b[0;34m)\u001b[0m\u001b[0;34m\u001b[0m\u001b[0m\n\u001b[0;32m----> 3\u001b[0;31m \u001b[0mscore\u001b[0m \u001b[0;34m=\u001b[0m \u001b[0mcross_validation\u001b[0m\u001b[0;34m.\u001b[0m\u001b[0mcross_val_score\u001b[0m\u001b[0;34m(\u001b[0m\u001b[0mestimator\u001b[0m\u001b[0;34m,\u001b[0m \u001b[0mbioresponce_data\u001b[0m\u001b[0;34m,\u001b[0m \u001b[0mbioresponce_target\u001b[0m\u001b[0;34m,\u001b[0m\u001b[0mscoring\u001b[0m \u001b[0;34m=\u001b[0m \u001b[0;34m'accuracy'\u001b[0m\u001b[0;34m,\u001b[0m \u001b[0mcv\u001b[0m \u001b[0;34m=\u001b[0m \u001b[0;36m3\u001b[0m\u001b[0;34m)\u001b[0m\u001b[0;34m\u001b[0m\u001b[0m\n\u001b[0m\u001b[1;32m      4\u001b[0m \u001b[0mxgb_scoring\u001b[0m\u001b[0;34m.\u001b[0m\u001b[0mappend\u001b[0m\u001b[0;34m(\u001b[0m\u001b[0mscore\u001b[0m\u001b[0;34m)\u001b[0m\u001b[0;34m\u001b[0m\u001b[0m\n\u001b[1;32m      5\u001b[0m \u001b[0mxgb_scoring\u001b[0m \u001b[0;34m=\u001b[0m \u001b[0mnp\u001b[0m\u001b[0;34m.\u001b[0m\u001b[0masmatrix\u001b[0m\u001b[0;34m(\u001b[0m\u001b[0mxgb_scoring\u001b[0m\u001b[0;34m)\u001b[0m\u001b[0;34m\u001b[0m\u001b[0m\n",
      "\u001b[0;32m/home/igor/anaconda3/envs/datamine/lib/python2.7/site-packages/sklearn/cross_validation.pyc\u001b[0m in \u001b[0;36mcross_val_score\u001b[0;34m(estimator, X, y, scoring, cv, n_jobs, verbose, fit_params, pre_dispatch)\u001b[0m\n\u001b[1;32m   1558\u001b[0m \u001b[0;34m\u001b[0m\u001b[0m\n\u001b[1;32m   1559\u001b[0m     \"\"\"\n\u001b[0;32m-> 1560\u001b[0;31m     \u001b[0mX\u001b[0m\u001b[0;34m,\u001b[0m \u001b[0my\u001b[0m \u001b[0;34m=\u001b[0m \u001b[0mindexable\u001b[0m\u001b[0;34m(\u001b[0m\u001b[0mX\u001b[0m\u001b[0;34m,\u001b[0m \u001b[0my\u001b[0m\u001b[0;34m)\u001b[0m\u001b[0;34m\u001b[0m\u001b[0m\n\u001b[0m\u001b[1;32m   1561\u001b[0m \u001b[0;34m\u001b[0m\u001b[0m\n\u001b[1;32m   1562\u001b[0m     \u001b[0mcv\u001b[0m \u001b[0;34m=\u001b[0m \u001b[0mcheck_cv\u001b[0m\u001b[0;34m(\u001b[0m\u001b[0mcv\u001b[0m\u001b[0;34m,\u001b[0m \u001b[0mX\u001b[0m\u001b[0;34m,\u001b[0m \u001b[0my\u001b[0m\u001b[0;34m,\u001b[0m \u001b[0mclassifier\u001b[0m\u001b[0;34m=\u001b[0m\u001b[0mis_classifier\u001b[0m\u001b[0;34m(\u001b[0m\u001b[0mestimator\u001b[0m\u001b[0;34m)\u001b[0m\u001b[0;34m)\u001b[0m\u001b[0;34m\u001b[0m\u001b[0m\n",
      "\u001b[0;32m/home/igor/anaconda3/envs/datamine/lib/python2.7/site-packages/sklearn/utils/validation.pyc\u001b[0m in \u001b[0;36mindexable\u001b[0;34m(*iterables)\u001b[0m\n\u001b[1;32m    204\u001b[0m         \u001b[0;32melse\u001b[0m\u001b[0;34m:\u001b[0m\u001b[0;34m\u001b[0m\u001b[0m\n\u001b[1;32m    205\u001b[0m             \u001b[0mresult\u001b[0m\u001b[0;34m.\u001b[0m\u001b[0mappend\u001b[0m\u001b[0;34m(\u001b[0m\u001b[0mnp\u001b[0m\u001b[0;34m.\u001b[0m\u001b[0marray\u001b[0m\u001b[0;34m(\u001b[0m\u001b[0mX\u001b[0m\u001b[0;34m)\u001b[0m\u001b[0;34m)\u001b[0m\u001b[0;34m\u001b[0m\u001b[0m\n\u001b[0;32m--> 206\u001b[0;31m     \u001b[0mcheck_consistent_length\u001b[0m\u001b[0;34m(\u001b[0m\u001b[0;34m*\u001b[0m\u001b[0mresult\u001b[0m\u001b[0;34m)\u001b[0m\u001b[0;34m\u001b[0m\u001b[0m\n\u001b[0m\u001b[1;32m    207\u001b[0m     \u001b[0;32mreturn\u001b[0m \u001b[0mresult\u001b[0m\u001b[0;34m\u001b[0m\u001b[0m\n\u001b[1;32m    208\u001b[0m \u001b[0;34m\u001b[0m\u001b[0m\n",
      "\u001b[0;32m/home/igor/anaconda3/envs/datamine/lib/python2.7/site-packages/sklearn/utils/validation.pyc\u001b[0m in \u001b[0;36mcheck_consistent_length\u001b[0;34m(*arrays)\u001b[0m\n\u001b[1;32m    179\u001b[0m     \u001b[0;32mif\u001b[0m \u001b[0mlen\u001b[0m\u001b[0;34m(\u001b[0m\u001b[0muniques\u001b[0m\u001b[0;34m)\u001b[0m \u001b[0;34m>\u001b[0m \u001b[0;36m1\u001b[0m\u001b[0;34m:\u001b[0m\u001b[0;34m\u001b[0m\u001b[0m\n\u001b[1;32m    180\u001b[0m         raise ValueError(\"Found input variables with inconsistent numbers of\"\n\u001b[0;32m--> 181\u001b[0;31m                          \" samples: %r\" % [int(l) for l in lengths])\n\u001b[0m\u001b[1;32m    182\u001b[0m \u001b[0;34m\u001b[0m\u001b[0m\n\u001b[1;32m    183\u001b[0m \u001b[0;34m\u001b[0m\u001b[0m\n",
      "\u001b[0;31mValueError\u001b[0m: Found input variables with inconsistent numbers of samples: [469, 157]"
     ]
    }
   ],
   "source": [
    "xgb_scoring = []\n",
    "estimator = xgb.XGBClassifier(learning_rate=0.1, max_depth=5, n_estimators=10, min_child_weight=3)\n",
    "score = cross_validation.cross_val_score(estimator, bioresponce_data, bioresponce_target,scoring = 'accuracy', cv = 3)    \n",
    "xgb_scoring.append(score)\n",
    "xgb_scoring = np.asmatrix(xgb_scoring)"
   ]
  }
 ],
 "metadata": {
  "anaconda-cloud": {},
  "kernelspec": {
   "display_name": "Python [conda env:datamine]",
   "language": "python",
   "name": "conda-env-datamine-py"
  },
  "language_info": {
   "codemirror_mode": {
    "name": "ipython",
    "version": 2
   },
   "file_extension": ".py",
   "mimetype": "text/x-python",
   "name": "python",
   "nbconvert_exporter": "python",
   "pygments_lexer": "ipython2",
   "version": "2.7.12"
  }
 },
 "nbformat": 4,
 "nbformat_minor": 1
}
