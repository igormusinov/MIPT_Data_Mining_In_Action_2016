{
 "cells": [
  {
   "cell_type": "code",
   "execution_count": 37,
   "metadata": {
    "collapsed": false
   },
   "outputs": [
    {
     "name": "stdout",
     "output_type": "stream",
     "text": [
      "[array([ 13.,  13.,  13.,  13.,  13.,   3.]), array([ 10.,  11.,  12.,  13.,   2.,   3.]), array([ 10.,  11.,  12.,  13.,   2.,   3.])]\n",
      "[ 33.  35.  37.  39.  17.   9.]\n"
     ]
    }
   ],
   "source": [
    "import numpy as np\n",
    "\n",
    "array = [0,1,2,3]\n",
    "sum(array*2)\n",
    "\n",
    "from sklearn.tree import DecisionTreeRegressor\n",
    "\n",
    "X = [[0],[1],[2],[3],[21],[41]]\n",
    "XX = [[5],[6],[7],[8],[12],[421]]\n",
    "y = [10,11,12,13,2,3]\n",
    "model = DecisionTreeRegressor()\n",
    "clf = model.fit(X,y)\n",
    "model.predict(XX)\n",
    "model2 = DecisionTreeRegressor().fit(XX,y)\n",
    "model3 = DecisionTreeRegressor().fit(XX,y)\n",
    "est = [model, model2, model3]\n",
    "print(map(lambda x: x.predict(XX), est))\n",
    "print(sum(map(lambda x: x.predict(XX), est)))"
   ]
  },
  {
   "cell_type": "code",
   "execution_count": 39,
   "metadata": {
    "collapsed": false
   },
   "outputs": [
    {
     "data": {
      "text/plain": [
       "DecisionTreeRegressor(criterion='mse', max_depth=None, max_features=None,\n",
       "           max_leaf_nodes=None, min_impurity_split=1e-07,\n",
       "           min_samples_leaf=1, min_samples_split=2,\n",
       "           min_weight_fraction_leaf=0.0, presort=False, random_state=None,\n",
       "           splitter='best')"
      ]
     },
     "execution_count": 39,
     "metadata": {},
     "output_type": "execute_result"
    }
   ],
   "source": [
    "import numpy as np\n",
    "def loss_grad(original_y, pred_y):\n",
    "        # Функция должна вернуть вектор длины = len(pred_y)\n",
    "        # В каждом элементе вектора должно быть значение градиента dL(pred_y, original_y) / d pred_y[i]\n",
    "        # Градиент на каждом объекте\n",
    "        grad = lambda original_y, pred_y: -original_y*(1/(1+np.exp(original_y*pred_y)))\n",
    "        return map(grad, original_y, pred_y)\n",
    "    \n",
    "y = loss_grad([2,3,6,7],[3,4,7,6])\n",
    "DecisionTreeRegressor().fit(XX,y)"
   ]
  },
  {
   "cell_type": "code",
   "execution_count": 4,
   "metadata": {
    "collapsed": false
   },
   "outputs": [
    {
     "data": {
      "text/plain": [
       "0"
      ]
     },
     "execution_count": 4,
     "metadata": {},
     "output_type": "execute_result"
    }
   ],
   "source": [
    "estimators_ = []\n",
    "y_pred = sum(map(lambda model: model.predict(XX) * lr, estimators_))\n",
    "y_pred"
   ]
  },
  {
   "cell_type": "code",
   "execution_count": 18,
   "metadata": {
    "collapsed": false
   },
   "outputs": [
    {
     "name": "stdout",
     "output_type": "stream",
     "text": [
      "1\n"
     ]
    }
   ],
   "source": [
    "ar = []\n",
    "if ar == []:\n",
    "    print(1)\n",
    "if ar == [3]:\n",
    "    print(2)"
   ]
  },
  {
   "cell_type": "code",
   "execution_count": 47,
   "metadata": {
    "collapsed": false
   },
   "outputs": [
    {
     "data": {
      "text/plain": [
       "array([  3.,  11.,   2.])"
      ]
     },
     "execution_count": 47,
     "metadata": {},
     "output_type": "execute_result"
    }
   ],
   "source": [
    "clf.predict([[100],[1],[23]])"
   ]
  }
 ],
 "metadata": {
  "anaconda-cloud": {},
  "kernelspec": {
   "display_name": "Python [conda env:datamine]",
   "language": "python",
   "name": "conda-env-datamine-py"
  },
  "language_info": {
   "codemirror_mode": {
    "name": "ipython",
    "version": 2
   },
   "file_extension": ".py",
   "mimetype": "text/x-python",
   "name": "python",
   "nbconvert_exporter": "python",
   "pygments_lexer": "ipython2",
   "version": "2.7.12"
  }
 },
 "nbformat": 4,
 "nbformat_minor": 1
}
